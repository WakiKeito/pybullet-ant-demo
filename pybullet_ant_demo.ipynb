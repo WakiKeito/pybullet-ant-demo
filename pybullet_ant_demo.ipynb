{
  "nbformat": 4,
  "nbformat_minor": 0,
  "metadata": {
    "colab": {
      "provenance": []
    },
    "kernelspec": {
      "name": "python3",
      "display_name": "Python 3"
    },
    "language_info": {
      "name": "python"
    }
  },
  "cells": [
    {
      "cell_type": "code",
      "execution_count": 6,
      "metadata": {
        "id": "w-OE6JUAXs6d"
      },
      "outputs": [],
      "source": [
        "!pip install pybullet --quiet"
      ]
    },
    {
      "cell_type": "code",
      "source": [
        "import pybullet as p\n",
        "import pybullet_data\n",
        "import time"
      ],
      "metadata": {
        "id": "9EhFcrjIXw3N"
      },
      "execution_count": 7,
      "outputs": []
    },
    {
      "cell_type": "code",
      "source": [
        "# GUIなしの場合（Colab）\n",
        "p.connect(p.DIRECT)  # ← p.GUI にするとローカル可視化"
      ],
      "metadata": {
        "colab": {
          "base_uri": "https://localhost:8080/"
        },
        "id": "GMSeJafrX1xc",
        "outputId": "a37371c8-ae90-45a8-cec1-13c20489b22d"
      },
      "execution_count": 8,
      "outputs": [
        {
          "output_type": "execute_result",
          "data": {
            "text/plain": [
              "1"
            ]
          },
          "metadata": {},
          "execution_count": 8
        }
      ]
    },
    {
      "cell_type": "code",
      "source": [
        "p.setAdditionalSearchPath(pybullet_data.getDataPath())\n",
        "p.loadURDF(\"plane.urdf\")\n",
        "robot_id = p.loadURDF(\"r2d2.urdf\", basePosition=[0, 0, 0.5])"
      ],
      "metadata": {
        "id": "5P2aqwp1X3dh"
      },
      "execution_count": 9,
      "outputs": []
    },
    {
      "cell_type": "code",
      "source": [
        "p.setGravity(0, 0, -9.8)"
      ],
      "metadata": {
        "id": "yPPfGy8nY0Bg"
      },
      "execution_count": 10,
      "outputs": []
    },
    {
      "cell_type": "code",
      "source": [
        "for i in range(240):\n",
        "    p.stepSimulation()\n",
        "    time.sleep(1/240)"
      ],
      "metadata": {
        "id": "1jAspfUWY4Oa"
      },
      "execution_count": 11,
      "outputs": []
    },
    {
      "cell_type": "code",
      "source": [
        "p.disconnect()"
      ],
      "metadata": {
        "id": "9EnXMbD9Y2pU"
      },
      "execution_count": 12,
      "outputs": []
    }
  ]
}